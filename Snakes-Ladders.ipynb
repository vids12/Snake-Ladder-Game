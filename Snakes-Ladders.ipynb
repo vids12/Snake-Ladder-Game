{
  "nbformat": 4,
  "nbformat_minor": 0,
  "metadata": {
    "colab": {
      "name": "Copy of Untitled5.ipynb",
      "provenance": [],
      "authorship_tag": "ABX9TyNdeMhvXc66sN0nU6uuSBRV",
      "include_colab_link": true
    },
    "kernelspec": {
      "name": "python3",
      "display_name": "Python 3"
    }
  },
  "cells": [
    {
      "cell_type": "markdown",
      "metadata": {
        "id": "view-in-github",
        "colab_type": "text"
      },
      "source": [
        "<a href=\"https://colab.research.google.com/github/vids12/Snake-Ladder-Game/blob/main/Snakes-Ladders.ipynb\" target=\"_parent\"><img src=\"https://colab.research.google.com/assets/colab-badge.svg\" alt=\"Open In Colab\"/></a>"
      ]
    },
    {
      "cell_type": "code",
      "metadata": {
        "id": "6dI0-DIqDsCw"
      },
      "source": [
        "# Importing Library\r\n",
        "import random\r\n",
        "\r\n",
        "#declaring variables \r\n",
        "player1,player2=\" \",\" \"\r\n",
        "mode=\" \"\r\n",
        "snakes={\r\n",
        "    17 : 7, \r\n",
        "    54 : 34,\r\n",
        "    62 : 19,\r\n",
        "    98 : 79\r\n",
        "}\r\n",
        "snakeTemp =[\r\n",
        "            'Oooppsss',\r\n",
        "            'Ohh Nooo',\r\n",
        "            'Saddd'\r\n",
        "]\r\n",
        "ladders={\r\n",
        "    3 : 38,\r\n",
        "    24 : 33, \r\n",
        "    42 : 93, \r\n",
        "    72 : 84\r\n",
        "}\r\n",
        "ladderTemp = [\r\n",
        "            'yayyyyyyyy',\r\n",
        "            'You nailed it!!',\r\n",
        "            'woohoooo',\r\n",
        "            'waaaaaaooooooo',\r\n",
        "            'You got lucky!!'\r\n",
        "]"
      ],
      "execution_count": 25,
      "outputs": []
    },
    {
      "cell_type": "code",
      "metadata": {
        "id": "rPz1fNfQEGUU"
      },
      "source": [
        "\r\n",
        "#input Player Names\r\n",
        "\r\n",
        "def getPlayersName():\r\n",
        "    global player1,player2\r\n",
        "    player1=input(\"Enter player1 name: \")\r\n",
        "    player2=input(\"\\nEnter player2 name: \")\r\n",
        "    print(\"\\nMatch:\")\r\n",
        "    print(f\"{player1} vs {player2}\")"
      ],
      "execution_count": 26,
      "outputs": []
    },
    {
      "cell_type": "code",
      "metadata": {
        "id": "XlFHFbNCQTA6"
      },
      "source": [
        "# Updating positions\r\n",
        "\r\n",
        "def positionUpdate(currentPosition,userInput):\r\n",
        "  if userInput in range(1,21):\r\n",
        "    if currentPosition+userInput<= 100:\r\n",
        "      currentPosition = currentPosition + userInput\r\n",
        "    if currentPosition in snakes:\r\n",
        "      currentPosition = snakes[currentPosition]\r\n",
        "      print(f'{random.choice(snakeTemp)} A snake bite!!')\r\n",
        "    elif currentPosition in ladders:\r\n",
        "      currentPosition = ladders[currentPosition]\r\n",
        "      print(f'{random.choice(ladderTemp)} You climbed a ladder!!')\r\n",
        "    return currentPosition\r\n",
        "  else:\r\n",
        "    return -1"
      ],
      "execution_count": 27,
      "outputs": []
    },
    {
      "cell_type": "code",
      "metadata": {
        "id": "V8LiV8Q5TKZd"
      },
      "source": [
        "# Input of player1\r\n",
        "def input_1(currentPosition_1):\r\n",
        "  # global currentPosition_1\r\n",
        "  userInput_1=input(\"\\nplayer 1: \")\r\n",
        "  if userInput_1==\"quit\":\r\n",
        "    print(f'{player2} WON')\r\n",
        "    print(\"#\"*5 + \"Game Over Successfully!\" + \"#\"*5)\r\n",
        "    return -1\r\n",
        "  \r\n",
        "  else:\r\n",
        "    if userInput_1 == \"roll\":\r\n",
        "      userInput_1 = random.randint(1,6)\r\n",
        "    userInput_1=int(userInput_1)\r\n",
        "    print(f\"{player1} entered: {userInput_1}\")\r\n",
        "    temp = positionUpdate(currentPosition_1,userInput_1)\r\n",
        "    if temp== -1:\r\n",
        "      print(\"You Entered an invalid input.Try again\")\r\n",
        "      input_1(currentPosition_1)\r\n",
        "    else:\r\n",
        "      currentPosition_1=temp\r\n",
        "      print(f\"Your FINAL position:{currentPosition_1}\")\r\n",
        "      print(\"-\"*12)\r\n",
        "    return currentPosition_1"
      ],
      "execution_count": 28,
      "outputs": []
    },
    {
      "cell_type": "code",
      "metadata": {
        "id": "w84PL6-7UAjV"
      },
      "source": [
        "# Input of player2\r\n",
        "def input_2(currentPosition_2):\r\n",
        "  # global currentPosition_2\r\n",
        "  userInput_2=input('\\nPlayer 2:')\r\n",
        "  if userInput_2==\"quit\":\r\n",
        "    print(f'{player1} WON')\r\n",
        "    print(\"#\"*5 + \"Game Over Successfully!\" + \"#\"*5)\r\n",
        "    return -1\r\n",
        "  else:\r\n",
        "    if userInput_2 == \"roll\":\r\n",
        "      userInput_2 = random.randint(1,6)\r\n",
        "    userInput_2=int(userInput_2)\r\n",
        "    print(f\"{player2} entered: {userInput_2}\")\r\n",
        "    temp = positionUpdate(currentPosition_2,userInput_2)\r\n",
        "    if temp== -1:\r\n",
        "      print(\"You entered invalid input.Try again.\")\r\n",
        "      input_2(currentPosition_2)\r\n",
        "    else:\r\n",
        "      currentPosition_2=temp\r\n",
        "      print(f\"Your FINAL position:{currentPosition_2}\")\r\n",
        "      print(\"-\"*12)\r\n",
        "    return currentPosition_2"
      ],
      "execution_count": 29,
      "outputs": []
    },
    {
      "cell_type": "code",
      "metadata": {
        "id": "nU_AAUoUEjll"
      },
      "source": [
        "# Function call\r\n",
        "def mode():\r\n",
        "  currentPosition_1=0\r\n",
        "  currentPosition_2=0\r\n",
        "  while True:\r\n",
        "    currentPosition_1 = input_1(currentPosition_1)\r\n",
        "    if currentPosition_1== 100:\r\n",
        "      print(f'{player1} WON')\r\n",
        "      print(\"#\"*5 + \"Game Over Successfully!\" + \"#\"*5)\r\n",
        "      break\r\n",
        "    elif currentPosition_1== -1:\r\n",
        "      break\r\n",
        "    currentPosition_2 = input_2(currentPosition_2)\r\n",
        "    if currentPosition_2== 100:\r\n",
        "      print(f'{player2} WON')\r\n",
        "      print(\"#\"*5 + \"Game Over Successfully!\" + \"#\"*5)\r\n",
        "      break\r\n",
        "    elif currentPosition_2== -1:\r\n",
        "      break"
      ],
      "execution_count": 30,
      "outputs": []
    },
    {
      "cell_type": "code",
      "metadata": {
        "colab": {
          "base_uri": "https://localhost:8080/"
        },
        "id": "VMnzb6Jrc1fH",
        "outputId": "fd023010-733d-46a6-a0a2-66828d809f10"
      },
      "source": [
        "# Welcome Msg\r\n",
        "\r\n",
        "print(\"#\"*6 + \" Welcome to Snakes & Ladder Game \" + \"#\"*6);\r\n",
        "print(\"Rules:\");\r\n",
        "print(\"1. Both the players will start from 0.\\\r\n",
        "       \\n2. If you land at the bottom of the ladder, you will move to top of the ladder.\\\r\n",
        "        \\n3. If you reach the head of the snake, you will go down to the tail.\\\r\n",
        "        \\n4. Ther are two modes: Auto and Manual. In auto mode, you have to type 'roll' to play. In manual mode, you have to type the number between 0 and 20.\\\r\n",
        "        \\n5. You can 'quit' at any time.\\\r\n",
        "        \\n6. The first player to get to the FINAL position is the winner.\\n\")\r\n",
        "\r\n",
        "# Function Call \r\n",
        "\r\n",
        "getPlayersName()\r\n",
        "mode()"
      ],
      "execution_count": 31,
      "outputs": [
        {
          "output_type": "stream",
          "text": [
            "###### Welcome to Snakes & Ladder Game ######\n",
            "Rules:\n",
            "1. Both the players will start from 0.       \n",
            "2. If you land at the bottom of the ladder, you will move to top of the ladder.        \n",
            "3. If you reach the head of the snake, you will go down to the tail.        \n",
            "4. Ther are two modes: Auto and Manual. In auto mode, you have to type 'roll' to play. In manual mode, you have to type the number between 0 and 20.        \n",
            "5. You can 'quit' at any time.        \n",
            "6. The first player to get to the FINAL position is the winner.\n",
            "\n",
            "Enter player1 name: Joseph\n",
            "\n",
            "Enter player2 name: Deepak\n",
            "\n",
            "Match:\n",
            "Joseph vs Deepak\n",
            "\n",
            "player 1: roll\n",
            "Joseph entered: 6\n",
            "Your FINAL position:6\n",
            "------------\n",
            "\n",
            "Player 2:3\n",
            "Deepak entered: 3\n",
            "waaaaaaooooooo You climbed a ladder!!\n",
            "Your FINAL position:38\n",
            "------------\n",
            "\n",
            "player 1: 20\n",
            "Joseph entered: 20\n",
            "Your FINAL position:26\n",
            "------------\n",
            "\n",
            "Player 2:20\n",
            "Deepak entered: 20\n",
            "Your FINAL position:58\n",
            "------------\n",
            "\n",
            "player 1: 20\n",
            "Joseph entered: 20\n",
            "Your FINAL position:46\n",
            "------------\n",
            "\n",
            "Player 2:20\n",
            "Deepak entered: 20\n",
            "Your FINAL position:78\n",
            "------------\n",
            "\n",
            "player 1: 20\n",
            "Joseph entered: 20\n",
            "Your FINAL position:66\n",
            "------------\n",
            "\n",
            "Player 2:20\n",
            "Deepak entered: 20\n",
            "Oooppsss A snake bite!!\n",
            "Your FINAL position:79\n",
            "------------\n",
            "\n",
            "player 1: 20\n",
            "Joseph entered: 20\n",
            "Your FINAL position:86\n",
            "------------\n",
            "\n",
            "Player 2:20\n",
            "Deepak entered: 20\n",
            "Your FINAL position:99\n",
            "------------\n",
            "\n",
            "player 1: 20\n",
            "Joseph entered: 20\n",
            "Your FINAL position:86\n",
            "------------\n",
            "\n",
            "Player 2:1\n",
            "Deepak entered: 1\n",
            "Your FINAL position:100\n",
            "------------\n",
            "Deepak WON\n",
            "#####Game Over Successfully!#####\n"
          ],
          "name": "stdout"
        }
      ]
    }
  ]
}